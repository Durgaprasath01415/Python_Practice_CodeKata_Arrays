{
  "nbformat": 4,
  "nbformat_minor": 0,
  "metadata": {
    "colab": {
      "provenance": [],
      "authorship_tag": "ABX9TyMNufCzfWtdEiacsA/1FXUD",
      "include_colab_link": true
    },
    "kernelspec": {
      "name": "python3",
      "display_name": "Python 3"
    },
    "language_info": {
      "name": "python"
    }
  },
  "cells": [
    {
      "cell_type": "markdown",
      "metadata": {
        "id": "view-in-github",
        "colab_type": "text"
      },
      "source": [
        "<a href=\"https://colab.research.google.com/github/Durgaprasath01415/Python_Practice_CodeKata_Arrays/blob/main/2_You_are_given_with_array_of_numbers_you_have_to_find_whether_array_is_beautiful_or_not_A_beautiful_array_is_an_array_whose_sum_of_all_numbers_is_divisible_by_2%2C_3_and_5_2.ipynb\" target=\"_parent\"><img src=\"https://colab.research.google.com/assets/colab-badge.svg\" alt=\"Open In Colab\"/></a>"
      ]
    },
    {
      "cell_type": "markdown",
      "source": [
        "you are given with array of numbers.you have to find whether array is beautiful or not. A beautiful array is an array whose sum of all numbers is divisible by 2, 3 and 5\n",
        "\n",
        "\n",
        "Input Description:\n",
        "You are given a number ‘n’ denoting the size of array.Next line contains n space separated numbers.\n",
        "\n",
        "Output Description:\n",
        "Print 1 if array is beautiful and 0 if it is not\n",
        "\n",
        "Sample Input :\n",
        "5\n",
        "5 25 35 -5 30\n",
        "Sample Output :\n",
        "1"
      ],
      "metadata": {
        "id": "3H2aZQS1voRm"
      }
    },
    {
      "cell_type": "code",
      "execution_count": 12,
      "metadata": {
        "colab": {
          "base_uri": "https://localhost:8080/"
        },
        "id": "Uwr9Vb36vkji",
        "outputId": "b4d522a7-13ad-42a9-a8b9-d329fa71eec6"
      },
      "outputs": [
        {
          "output_type": "stream",
          "name": "stdout",
          "text": [
            "5\n",
            "5 25 35 -5 30\n",
            "1\n"
          ]
        }
      ],
      "source": [
        "N = input()\n",
        "nums = input()\n",
        "num_list = map(int,nums.split())\n",
        "i = sum(num_list)\n",
        "c = (i % 2 == 0) and (i % 3 == 0) and (i % 5 == 0)\n",
        "if c:\n",
        "        print(1)\n",
        "else:\n",
        "        print(0)"
      ]
    }
  ]
}