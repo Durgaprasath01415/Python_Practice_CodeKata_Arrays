{
  "nbformat": 4,
  "nbformat_minor": 0,
  "metadata": {
    "colab": {
      "provenance": [],
      "authorship_tag": "ABX9TyPRSPR+f2dm7qTS0YgqN27J",
      "include_colab_link": true
    },
    "kernelspec": {
      "name": "python3",
      "display_name": "Python 3"
    },
    "language_info": {
      "name": "python"
    }
  },
  "cells": [
    {
      "cell_type": "markdown",
      "metadata": {
        "id": "view-in-github",
        "colab_type": "text"
      },
      "source": [
        "<a href=\"https://colab.research.google.com/github/Durgaprasath01415/Python_Practice_CodeKata_Arrays/blob/main/5_You_are_given_an_array_of_ids_of_prisoners_The_jail_authority_found_that_there_are_some_prisoners_of_same_id_Your_task_is_to_help_the_authority_in_finding_the_common_ids_5.ipynb\" target=\"_parent\"><img src=\"https://colab.research.google.com/assets/colab-badge.svg\" alt=\"Open In Colab\"/></a>"
      ]
    },
    {
      "cell_type": "markdown",
      "source": [
        "You are given an array of ids of prisoners. The jail authority found that there are some prisoners of same id. Your task is to help the authority in finding the common ids.\n",
        "\n",
        "\n",
        "Input Description:\n",
        "First line contains a number ‘n’ representing no of prisoners. Next line contains n space separated numbers.\n",
        "\n",
        "Output Description:\n",
        "Print the ids which are not unique. Print -1 if all ids are unique\n",
        "\n",
        "Sample Input :\n",
        "7\n",
        "1 1 11 121 131 141 98\n",
        "Sample Output :\n",
        "1"
      ],
      "metadata": {
        "id": "3H2aZQS1voRm"
      }
    },
    {
      "cell_type": "code",
      "execution_count": 21,
      "metadata": {
        "colab": {
          "base_uri": "https://localhost:8080/"
        },
        "id": "Uwr9Vb36vkji",
        "outputId": "f92dcb70-50c1-4f4f-d131-d84192353f0c"
      },
      "outputs": [
        {
          "output_type": "stream",
          "name": "stdout",
          "text": [
            "7\n",
            "1 1 11 121 131 141 98\n",
            "1 "
          ]
        }
      ],
      "source": [
        "n = input()\n",
        "ids = input()\n",
        "\n",
        "ids_list = list(map(int,ids.split()))\n",
        "unique = set(ids_list)\n",
        "for i in ids_list:\n",
        "  if unique.__contains__(i):\n",
        "    unique.remove(i)\n",
        "  else:\n",
        "    print(i)"
      ]
    }
  ]
}