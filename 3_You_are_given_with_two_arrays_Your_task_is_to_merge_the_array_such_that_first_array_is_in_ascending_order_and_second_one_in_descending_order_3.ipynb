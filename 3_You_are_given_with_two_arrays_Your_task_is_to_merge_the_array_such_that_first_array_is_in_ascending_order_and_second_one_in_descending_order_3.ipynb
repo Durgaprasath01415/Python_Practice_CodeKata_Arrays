{
  "nbformat": 4,
  "nbformat_minor": 0,
  "metadata": {
    "colab": {
      "provenance": [],
      "authorship_tag": "ABX9TyMXLtUyTFNqaRjtIzgofKGn",
      "include_colab_link": true
    },
    "kernelspec": {
      "name": "python3",
      "display_name": "Python 3"
    },
    "language_info": {
      "name": "python"
    }
  },
  "cells": [
    {
      "cell_type": "markdown",
      "metadata": {
        "id": "view-in-github",
        "colab_type": "text"
      },
      "source": [
        "<a href=\"https://colab.research.google.com/github/Durgaprasath01415/Python_Practice_CodeKata_Arrays/blob/main/3_You_are_given_with_two_arrays_Your_task_is_to_merge_the_array_such_that_first_array_is_in_ascending_order_and_second_one_in_descending_order_3.ipynb\" target=\"_parent\"><img src=\"https://colab.research.google.com/assets/colab-badge.svg\" alt=\"Open In Colab\"/></a>"
      ]
    },
    {
      "cell_type": "markdown",
      "source": [
        "You are given with two arrays. Your task is to merge the array such that first array is in ascending order and second one in descending order.\n",
        "\n",
        "\n",
        "Input Description:\n",
        "First line contains two integer ‘n’ and ‘m’. ‘n’ denotes length of array 1 and ‘m’ of array 2.Next line contains n space separated numbers and third line contains ‘m’ space separated numbers\n",
        "\n",
        "Output Description:\n",
        "Print a single array in desired order\n",
        "\n",
        "Sample Input :\n",
        "3 3\n",
        "23 15 16\n",
        "357 65 10\n",
        "Sample Output :\n",
        "15 16 23 357 65 10"
      ],
      "metadata": {
        "id": "3H2aZQS1voRm"
      }
    },
    {
      "cell_type": "code",
      "execution_count": 11,
      "metadata": {
        "colab": {
          "base_uri": "https://localhost:8080/"
        },
        "id": "Uwr9Vb36vkji",
        "outputId": "e510534d-2d75-4b32-9ab6-5d40655efff0"
      },
      "outputs": [
        {
          "output_type": "stream",
          "name": "stdout",
          "text": [
            "3 3\n",
            "3 2 1\n",
            "4 5 6\n",
            "[1, 2, 3, 6, 5, 4]\n"
          ]
        }
      ],
      "source": [
        "n = input()\n",
        "arr1 = input()\n",
        "arr2 = input()\n",
        "\n",
        "sort_arr1 = list(map(int,arr1.split()))\n",
        "sort_arr2 = list(map(int,arr2.split()))\n",
        "\n",
        "sort_arr1.sort()\n",
        "sort_arr2.sort(reverse=True)\n",
        "sort_arr1.extend(sort_arr2)\n",
        "print(sort_arr1)"
      ]
    }
  ]
}